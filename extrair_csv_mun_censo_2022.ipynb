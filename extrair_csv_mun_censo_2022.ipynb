{
  "cells": [
    {
      "cell_type": "markdown",
      "metadata": {
        "id": "view-in-github",
        "colab_type": "text"
      },
      "source": [
        "<a href=\"https://colab.research.google.com/github/erikkmelo/Censo-2022-EDA/blob/main/extrair_csv_mun_censo_2022.ipynb\" target=\"_parent\"><img src=\"https://colab.research.google.com/assets/colab-badge.svg\" alt=\"Open In Colab\"/></a>"
      ]
    },
    {
      "cell_type": "markdown",
      "source": [
        "# Instalações e Bibliotecas necessárias\n",
        "Só precisa ser executado uma vez por sessão.\n",
        "Caso a sessão seja interrompida é necessário executar novamente."
      ],
      "metadata": {
        "id": "R-5G5cpcPWqA"
      }
    },
    {
      "cell_type": "code",
      "execution_count": 1,
      "metadata": {
        "id": "oJDcWEbH758Y"
      },
      "outputs": [],
      "source": [
        "#!pip install gdown\n",
        "import gdown\n",
        "import pandas as pd\n",
        "import os"
      ]
    },
    {
      "cell_type": "code",
      "source": [
        "def baixar_arquivo(file_id, file_name):\n",
        "    \"\"\"Baixar o arquivo do Google Drive.\"\"\"\n",
        "    url = f\"https://drive.google.com/uc?id={file_id}\"\n",
        "    gdown.download(url, file_name, quiet=False)\n",
        "    return f\"/content/{file_name}\"\n",
        "\n",
        "def filtrar_dados(file_path, codigo_municipio):\n",
        "    \"\"\"Filtrar o DataFrame com base nos 7 primeiros dígitos do CD_SETOR ou CD_setor.\"\"\"\n",
        "    df = pd.read_csv(file_path, encoding='latin9', sep=';')  # Ajuste o delimitador se necessário\n",
        "\n",
        "    # Verificar se o campo 'CD_SETOR' ou 'CD_setor' existe e usar o apropriado\n",
        "    if 'CD_SETOR' in df.columns:\n",
        "        coluna_setor = 'CD_SETOR'\n",
        "    elif 'CD_setor' in df.columns:\n",
        "        coluna_setor = 'CD_setor'\n",
        "    else:\n",
        "        raise ValueError(\"O campo 'CD_SETOR' ou 'CD_setor' não foi encontrado no arquivo.\")\n",
        "\n",
        "    # Filtrar os dados com base nos 7 primeiros dígitos do código do município\n",
        "    df_municipio = df[df[coluna_setor].astype(str).str[:7] == codigo_municipio]\n",
        "    return df_municipio\n",
        "\n",
        "def salvar_arquivo(df, file_name, codigo_municipio):\n",
        "    \"\"\"Salvar o DataFrame filtrado no diretório correspondente.\"\"\"\n",
        "    csv_mun = file_name.replace(\"BR\", codigo_municipio)\n",
        "    caminho_diretorio = f\"/content/{codigo_municipio}\"\n",
        "    caminho_arquivo = f\"{caminho_diretorio}/{csv_mun}\"\n",
        "\n",
        "    # Criar o diretório, se não existir\n",
        "    os.makedirs(caminho_diretorio, exist_ok=True)\n",
        "\n",
        "    # Salvar o DataFrame filtrado\n",
        "    df.to_csv(caminho_arquivo, index=False, sep=';', encoding='UTF-8')\n",
        "    print(f\"Arquivo salvo como: {caminho_arquivo}\")\n",
        "\n",
        "def processar_arquivo(file_id, file_name, codigo_municipio):\n",
        "    \"\"\"Processar o arquivo: baixar, filtrar e salvar.\"\"\"\n",
        "    file_path = baixar_arquivo(file_id, file_name)\n",
        "    df_municipio = filtrar_dados(file_path, codigo_municipio)\n",
        "    salvar_arquivo(df_municipio, file_name, codigo_municipio)"
      ],
      "metadata": {
        "colab": {
          "base_uri": "https://localhost:8080/"
        },
        "id": "zqEyZcbLmBlt",
        "outputId": "1960edb8-74c4-488b-e1c5-309086584b56"
      },
      "execution_count": 31,
      "outputs": [
        {
          "output_type": "stream",
          "name": "stderr",
          "text": [
            "Downloading...\n",
            "From (original): https://drive.google.com/uc?id=1mM7kVMKOr5U2MMOqneMRHYBcY9cunYxy\n",
            "From (redirected): https://drive.google.com/uc?id=1mM7kVMKOr5U2MMOqneMRHYBcY9cunYxy&confirm=t&uuid=f08703a5-9eb7-49b5-bf12-486b874c8323\n",
            "To: /content/Agregados_por_setores_basico_BR.csv\n",
            "100%|██████████| 137M/137M [00:00<00:00, 137MB/s]\n",
            "<ipython-input-31-4882829b2faa>:16: DtypeWarning: Columns (2,3,9,11,13,14,23,25) have mixed types. Specify dtype option on import or set low_memory=False.\n",
            "  df = pd.read_csv(file_path, encoding='latin9', sep=';')  # Ajuste o delimitador se necessário\n"
          ]
        },
        {
          "output_type": "stream",
          "name": "stdout",
          "text": [
            "Arquivo salvo como: /content/3551009/Agregados_por_setores_basico_3551009.csv\n"
          ]
        },
        {
          "output_type": "stream",
          "name": "stderr",
          "text": [
            "Downloading...\n",
            "From (original): https://drive.google.com/uc?id=13YQRRIXqURVHqKmBeiUU7eoYSeGG3p7y\n",
            "From (redirected): https://drive.google.com/uc?id=13YQRRIXqURVHqKmBeiUU7eoYSeGG3p7y&confirm=t&uuid=c271b1f7-b587-4bca-a1c2-601232bee0e8\n",
            "To: /content/Agregados_por_setores_alfabetizacao_BR.csv\n",
            "100%|██████████| 735M/735M [00:05<00:00, 127MB/s]\n",
            "<ipython-input-31-4882829b2faa>:16: DtypeWarning: Columns (8,10,23,27,43,44,53,58,61,62,63,68,73,76,78,81,88,92,100,112,114,127,131,147,148,157,162,165,167,172,177,180,182,185,192,196,209,211,213,215,217,223,229,232,236,237,243,246,255,256,257,259,265,268,269,271,279,282,288,292,294,296,298,311,325,328,330,331,336,341,343,347,350,352) have mixed types. Specify dtype option on import or set low_memory=False.\n",
            "  df = pd.read_csv(file_path, encoding='latin9', sep=';')  # Ajuste o delimitador se necessário\n"
          ]
        },
        {
          "output_type": "stream",
          "name": "stdout",
          "text": [
            "Arquivo salvo como: /content/3551009/Agregados_por_setores_alfabetizacao_3551009.csv\n"
          ]
        },
        {
          "output_type": "stream",
          "name": "stderr",
          "text": [
            "Downloading...\n",
            "From (original): https://drive.google.com/uc?id=1lau-qV7TfJVgM2RWHd8b0v-t__rdm9KE\n",
            "From (redirected): https://drive.google.com/uc?id=1lau-qV7TfJVgM2RWHd8b0v-t__rdm9KE&confirm=t&uuid=72c0682b-58e2-4a8f-a8ca-b6d6d431dd79\n",
            "To: /content/Agregados_por_setores_caracteristicas_domicilio1_BR.csv\n",
            "100%|██████████| 186M/186M [00:01<00:00, 135MB/s]\n",
            "<ipython-input-31-4882829b2faa>:16: DtypeWarning: Columns (1,3,4,5,7,8,9,10,11,13,14,15,16,17,20,21,28,29,30,31,32,33,34,35,36,37,38,39,40,41,42,43,44,45,46,47,51,52,53,54,56,57,59,60,61,62,63,64,65,66,67,68,69,70,71,72,73,74,77,78,84,87) have mixed types. Specify dtype option on import or set low_memory=False.\n",
            "  df = pd.read_csv(file_path, encoding='latin9', sep=';')  # Ajuste o delimitador se necessário\n"
          ]
        },
        {
          "output_type": "stream",
          "name": "stdout",
          "text": [
            "Arquivo salvo como: /content/3551009/Agregados_por_setores_caracteristicas_domicilio1_3551009.csv\n"
          ]
        }
      ]
    },
    {
      "cell_type": "markdown",
      "source": [
        "# 1º Passo - Escolha o município através do código dos municípios IBGE\n",
        "\n",
        "# Códigos dos municípios IBGE\n",
        "\n",
        "https://www.ibge.gov.br/explica/codigos-dos-municipios.php#SP"
      ],
      "metadata": {
        "id": "2dIJ-xA9OJe7"
      }
    },
    {
      "cell_type": "code",
      "source": [
        "# Definir o código do município pelos 7 primeiros dígitos\n",
        "codigo_municipio = \"3551009\"  # Substitua pelo código desejado p.ex. 3551009 - São Vicente - SP"
      ],
      "metadata": {
        "id": "beT06Nn4Oypu"
      },
      "execution_count": 2,
      "outputs": []
    },
    {
      "cell_type": "markdown",
      "source": [
        "# Execução dos arquivos\n",
        "\n",
        "Optei por não fazer uma rotina pois como a maior parte dos CSV do Censo BR tem mais de 100mb e aqui no colab as vezes tem limite de memória, recomendo fazer os processos uma a um. E também por ser possível executar para apenas um dos temas de interesse.\n",
        "\n",
        "Pode dar um Ctrl + F10 e executar tudo de uma vez? Pode, o máximo que vai acontecer é dar de problema é ter que começar tudo de novo, mas na maioria das vezes dá certo."
      ],
      "metadata": {
        "id": "XsUyG9j3pZgJ"
      }
    },
    {
      "cell_type": "code",
      "source": [
        "processar_arquivo(\"1mM7kVMKOr5U2MMOqneMRHYBcY9cunYxy\", \"Agregados_por_setores_basico_BR.csv\", codigo_municipio)"
      ],
      "metadata": {
        "colab": {
          "base_uri": "https://localhost:8080/"
        },
        "id": "Di9aKxFNnea9",
        "outputId": "9bb81f5c-2e3e-467b-aefa-79e0ba35fc45"
      },
      "execution_count": 34,
      "outputs": [
        {
          "output_type": "stream",
          "name": "stderr",
          "text": [
            "Downloading...\n",
            "From (original): https://drive.google.com/uc?id=1mM7kVMKOr5U2MMOqneMRHYBcY9cunYxy\n",
            "From (redirected): https://drive.google.com/uc?id=1mM7kVMKOr5U2MMOqneMRHYBcY9cunYxy&confirm=t&uuid=55499f00-5463-483e-b0b6-40aca449bf2a\n",
            "To: /content/Agregados_por_setores_basico_BR.csv\n",
            "100%|██████████| 137M/137M [00:01<00:00, 77.2MB/s]\n",
            "<ipython-input-31-4882829b2faa>:16: DtypeWarning: Columns (2,3,9,11,13,14,23,25) have mixed types. Specify dtype option on import or set low_memory=False.\n",
            "  df = pd.read_csv(file_path, encoding='latin9', sep=';')  # Ajuste o delimitador se necessário\n"
          ]
        },
        {
          "output_type": "stream",
          "name": "stdout",
          "text": [
            "Arquivo salvo como: /content/3551009/Agregados_por_setores_basico_3551009.csv\n"
          ]
        }
      ]
    },
    {
      "cell_type": "code",
      "source": [
        "processar_arquivo(\"13YQRRIXqURVHqKmBeiUU7eoYSeGG3p7y\", \"Agregados_por_setores_alfabetizacao_BR.csv\", codigo_municipio)"
      ],
      "metadata": {
        "colab": {
          "base_uri": "https://localhost:8080/"
        },
        "id": "gVyZd7rpoF-B",
        "outputId": "4ac4f677-0194-48cf-825d-734b5c151c40"
      },
      "execution_count": 35,
      "outputs": [
        {
          "output_type": "stream",
          "name": "stderr",
          "text": [
            "Downloading...\n",
            "From (original): https://drive.google.com/uc?id=13YQRRIXqURVHqKmBeiUU7eoYSeGG3p7y\n",
            "From (redirected): https://drive.google.com/uc?id=13YQRRIXqURVHqKmBeiUU7eoYSeGG3p7y&confirm=t&uuid=e058d70f-a4d3-4da7-ab58-a67d2ce599fd\n",
            "To: /content/Agregados_por_setores_alfabetizacao_BR.csv\n",
            "100%|██████████| 735M/735M [00:08<00:00, 82.7MB/s]\n",
            "<ipython-input-31-4882829b2faa>:16: DtypeWarning: Columns (8,10,23,27,43,44,53,58,61,62,63,68,73,76,78,81,88,92,100,112,114,127,131,147,148,157,162,165,167,172,177,180,182,185,192,196,209,211,213,215,217,223,229,232,236,237,243,246,255,256,257,259,265,268,269,271,279,282,288,292,294,296,298,311,325,328,330,331,336,341,343,347,350,352) have mixed types. Specify dtype option on import or set low_memory=False.\n",
            "  df = pd.read_csv(file_path, encoding='latin9', sep=';')  # Ajuste o delimitador se necessário\n"
          ]
        },
        {
          "output_type": "stream",
          "name": "stdout",
          "text": [
            "Arquivo salvo como: /content/3551009/Agregados_por_setores_alfabetizacao_3551009.csv\n"
          ]
        }
      ]
    },
    {
      "cell_type": "code",
      "source": [
        "processar_arquivo(\"1lau-qV7TfJVgM2RWHd8b0v-t__rdm9KE\", \"Agregados_por_setores_caracteristicas_domicilio1_BR.csv\", codigo_municipio)"
      ],
      "metadata": {
        "colab": {
          "base_uri": "https://localhost:8080/"
        },
        "id": "47U0TfPcoIp5",
        "outputId": "37df8541-ca22-42f3-a79d-752309b27efc"
      },
      "execution_count": 36,
      "outputs": [
        {
          "output_type": "stream",
          "name": "stderr",
          "text": [
            "Downloading...\n",
            "From (original): https://drive.google.com/uc?id=1lau-qV7TfJVgM2RWHd8b0v-t__rdm9KE\n",
            "From (redirected): https://drive.google.com/uc?id=1lau-qV7TfJVgM2RWHd8b0v-t__rdm9KE&confirm=t&uuid=b9f2081c-4ab6-4131-bdc2-3c9efbd8cfa2\n",
            "To: /content/Agregados_por_setores_caracteristicas_domicilio1_BR.csv\n",
            "100%|██████████| 186M/186M [00:01<00:00, 112MB/s]\n",
            "<ipython-input-31-4882829b2faa>:16: DtypeWarning: Columns (1,3,4,5,7,8,9,10,11,13,14,15,16,17,20,21,28,29,30,31,32,33,34,35,36,37,38,39,40,41,42,43,44,45,46,47,51,52,53,54,56,57,59,60,61,62,63,64,65,66,67,68,69,70,71,72,73,74,77,78,84,87) have mixed types. Specify dtype option on import or set low_memory=False.\n",
            "  df = pd.read_csv(file_path, encoding='latin9', sep=';')  # Ajuste o delimitador se necessário\n"
          ]
        },
        {
          "output_type": "stream",
          "name": "stdout",
          "text": [
            "Arquivo salvo como: /content/3551009/Agregados_por_setores_caracteristicas_domicilio1_3551009.csv\n"
          ]
        }
      ]
    },
    {
      "cell_type": "code",
      "source": [
        "processar_arquivo(\"1QUkq0107d_w10xxB3lyZhBImVwHb6Ymp\", \"Agregados_por_setores_caracteristicas_domicilio2_BR.csv\", codigo_municipio)"
      ],
      "metadata": {
        "colab": {
          "base_uri": "https://localhost:8080/"
        },
        "id": "UFPmgYa2oJHx",
        "outputId": "4e9f6e52-5815-4a91-8438-8bd335e9730d"
      },
      "execution_count": 37,
      "outputs": [
        {
          "output_type": "stream",
          "name": "stderr",
          "text": [
            "Downloading...\n",
            "From (original): https://drive.google.com/uc?id=1QUkq0107d_w10xxB3lyZhBImVwHb6Ymp\n",
            "From (redirected): https://drive.google.com/uc?id=1QUkq0107d_w10xxB3lyZhBImVwHb6Ymp&confirm=t&uuid=dbd03ef2-ddd5-4ccd-a6a1-c2b0ae55df74\n",
            "To: /content/Agregados_por_setores_caracteristicas_domicilio2_BR.csv\n",
            "100%|██████████| 784M/784M [00:16<00:00, 47.4MB/s]\n",
            "<ipython-input-31-4882829b2faa>:16: DtypeWarning: Columns (4,13,15,16,40,42,43,44,45,47,48,49,50,51,52,53,66,68,70,73,75,76,77,78,79,80,81,83,84,86,88,91,93,102,105,110,113,118,120,121,125,129,131,132,134,136,137,142,143,147,148,149,150,154,155,156,157,159,161,162,163,168,169,170,176,191,192,193,194,195,196,197,198,199,200,201,202,203,204,205,214,215,216,217,218,219,227,235,238,240,241,242,243,245,248,249,251,259,261,272,273,274,276,277,279,280,281,284,286,287,288,289,290,291,300,303,306,307,322,323,324,325,327,328,329,330,331,344,346,347,348,349,351,353,354,356,358,359,361,368,371,380,381,386,390,396,404,405,406) have mixed types. Specify dtype option on import or set low_memory=False.\n",
            "  df = pd.read_csv(file_path, encoding='latin9', sep=';')  # Ajuste o delimitador se necessário\n"
          ]
        },
        {
          "output_type": "stream",
          "name": "stdout",
          "text": [
            "Arquivo salvo como: /content/3551009/Agregados_por_setores_caracteristicas_domicilio2_3551009.csv\n"
          ]
        }
      ]
    },
    {
      "cell_type": "code",
      "source": [
        "processar_arquivo(\"1jIHOCfofQ4wvtdeKN1XgZQ0by0Lge9Z8\", \"Agregados_por_setores_caracteristicas_domicilio3_BR.csv\", codigo_municipio)"
      ],
      "metadata": {
        "colab": {
          "base_uri": "https://localhost:8080/"
        },
        "id": "V7Dqf9WKoJhw",
        "outputId": "490d4ba8-12e8-4c1f-95e0-e84a341ff845"
      },
      "execution_count": 38,
      "outputs": [
        {
          "output_type": "stream",
          "name": "stderr",
          "text": [
            "Downloading...\n",
            "From (original): https://drive.google.com/uc?id=1jIHOCfofQ4wvtdeKN1XgZQ0by0Lge9Z8\n",
            "From (redirected): https://drive.google.com/uc?id=1jIHOCfofQ4wvtdeKN1XgZQ0by0Lge9Z8&confirm=t&uuid=7a4b3ecd-7e67-420d-8057-b49d2588b447\n",
            "To: /content/Agregados_por_setores_caracteristicas_domicilio3_BR.csv\n",
            "100%|██████████| 305M/305M [00:07<00:00, 41.4MB/s]\n",
            "<ipython-input-31-4882829b2faa>:16: DtypeWarning: Columns (1,4,7,10,16,18,22,25,26,27,33,34,42,45,47,48,51,54,56,57,59,60,61,62,63,68,69,70,71,73,75,76,77,79,82,83,84,88,89,90,92,97,100,106,108,113,116,118,121,124,126,127,132,133,139,144,148) have mixed types. Specify dtype option on import or set low_memory=False.\n",
            "  df = pd.read_csv(file_path, encoding='latin9', sep=';')  # Ajuste o delimitador se necessário\n"
          ]
        },
        {
          "output_type": "stream",
          "name": "stdout",
          "text": [
            "Arquivo salvo como: /content/3551009/Agregados_por_setores_caracteristicas_domicilio3_3551009.csv\n"
          ]
        }
      ]
    },
    {
      "cell_type": "code",
      "source": [
        "processar_arquivo(\"1T5QYq8o-jNFjvbYzZPgtThujiGQxn0_X\", \"Agregados_por_setores_cor_ou_raca_BR.csv\", codigo_municipio)"
      ],
      "metadata": {
        "colab": {
          "base_uri": "https://localhost:8080/"
        },
        "id": "sJ5cUdxKoJ6Q",
        "outputId": "00d26582-324d-4a32-f3ad-276544ec7e16"
      },
      "execution_count": 39,
      "outputs": [
        {
          "output_type": "stream",
          "name": "stderr",
          "text": [
            "Downloading...\n",
            "From (original): https://drive.google.com/uc?id=1T5QYq8o-jNFjvbYzZPgtThujiGQxn0_X\n",
            "From (redirected): https://drive.google.com/uc?id=1T5QYq8o-jNFjvbYzZPgtThujiGQxn0_X&confirm=t&uuid=fdb12d41-5b6c-42ca-b861-a63a8448ea55\n",
            "To: /content/Agregados_por_setores_cor_ou_raca_BR.csv\n",
            "100%|██████████| 201M/201M [00:03<00:00, 53.2MB/s]\n",
            "<ipython-input-31-4882829b2faa>:16: DtypeWarning: Columns (1,4,6,9,11,14,19,41,42,46,51,52,55,56,62,66,69,75,81,84,94) have mixed types. Specify dtype option on import or set low_memory=False.\n",
            "  df = pd.read_csv(file_path, encoding='latin9', sep=';')  # Ajuste o delimitador se necessário\n"
          ]
        },
        {
          "output_type": "stream",
          "name": "stdout",
          "text": [
            "Arquivo salvo como: /content/3551009/Agregados_por_setores_cor_ou_raca_3551009.csv\n"
          ]
        }
      ]
    },
    {
      "cell_type": "code",
      "source": [
        "processar_arquivo(\"1E2gc_Tunw63bWVW3Iix4vpvHDeRxYmz6\", \"Agregados_por_setores_demografia_BR.csv\", codigo_municipio)"
      ],
      "metadata": {
        "colab": {
          "base_uri": "https://localhost:8080/"
        },
        "id": "n_nwkBq8oKO4",
        "outputId": "774e68ae-0986-472f-cf3b-0c62a90aeb49"
      },
      "execution_count": 40,
      "outputs": [
        {
          "output_type": "stream",
          "name": "stderr",
          "text": [
            "Downloading...\n",
            "From: https://drive.google.com/uc?id=1E2gc_Tunw63bWVW3Iix4vpvHDeRxYmz6\n",
            "To: /content/Agregados_por_setores_demografia_BR.csv\n",
            "100%|██████████| 88.9M/88.9M [00:01<00:00, 83.5MB/s]\n",
            "<ipython-input-31-4882829b2faa>:16: DtypeWarning: Columns (1,2,3,4,9,18,25,32,33,34) have mixed types. Specify dtype option on import or set low_memory=False.\n",
            "  df = pd.read_csv(file_path, encoding='latin9', sep=';')  # Ajuste o delimitador se necessário\n"
          ]
        },
        {
          "output_type": "stream",
          "name": "stdout",
          "text": [
            "Arquivo salvo como: /content/3551009/Agregados_por_setores_demografia_3551009.csv\n"
          ]
        }
      ]
    },
    {
      "cell_type": "code",
      "source": [
        "processar_arquivo(\"1s89nZcmdJLGcCU0ns-Oj3sx8EVI2Lp4E\", \"Agregados_por_setores_domicilios_indigenas_BR.csv\", codigo_municipio)"
      ],
      "metadata": {
        "colab": {
          "base_uri": "https://localhost:8080/"
        },
        "id": "xe9wyNmzoKmA",
        "outputId": "d1e7f745-ded7-4642-cd94-b6261c0a6c49"
      },
      "execution_count": 41,
      "outputs": [
        {
          "output_type": "stream",
          "name": "stderr",
          "text": [
            "Downloading...\n",
            "From (original): https://drive.google.com/uc?id=1s89nZcmdJLGcCU0ns-Oj3sx8EVI2Lp4E\n",
            "From (redirected): https://drive.google.com/uc?id=1s89nZcmdJLGcCU0ns-Oj3sx8EVI2Lp4E&confirm=t&uuid=178fe71b-4e83-492c-8bd3-38cd2664f491\n",
            "To: /content/Agregados_por_setores_domicilios_indigenas_BR.csv\n",
            "100%|██████████| 358M/358M [00:07<00:00, 48.1MB/s]\n",
            "<ipython-input-31-4882829b2faa>:16: DtypeWarning: Columns (3,4,7,8,9,10,11,12,13,14,15,16,17,18,19,20,21,22,23,24,25,26,27,30,31,32,33,34,35,36,37,38,39,40,41,42,43,44,45,46,47,48,49,50,52,53,54,55,56,57,60,61,62,63,64,65,68,69,71,72,74,75,76,77,78,79,80,81,82,83,84,85,86,87,88,89,90,91,92,93,95,96,98,99,100,101,102,103,104,105,106,107,108,109,110,111,112,113,114,115,116,117,119,120,121,123,125,126,127,129,130,131,132,133,135,136,138,140,141,142,143,144,153,154,155,156,158,161,162,163,164,166,169,170,171,172,175,176,177,178,181,182,183,184,186,188,189) have mixed types. Specify dtype option on import or set low_memory=False.\n",
            "  df = pd.read_csv(file_path, encoding='latin9', sep=';')  # Ajuste o delimitador se necessário\n"
          ]
        },
        {
          "output_type": "stream",
          "name": "stdout",
          "text": [
            "Arquivo salvo como: /content/3551009/Agregados_por_setores_domicilios_indigenas_3551009.csv\n"
          ]
        }
      ]
    },
    {
      "cell_type": "code",
      "source": [
        "processar_arquivo(\"1wfxQgcK9y-KOHKYgQmh5juhYbz6NRCSG\", \"Agregados_por_setores_domicilios_quilombolas_BR.csv\", codigo_municipio)"
      ],
      "metadata": {
        "colab": {
          "base_uri": "https://localhost:8080/"
        },
        "id": "RBgDs8BzoK6g",
        "outputId": "5ec7393d-8328-4c69-929d-4396709be0bf"
      },
      "execution_count": 42,
      "outputs": [
        {
          "output_type": "stream",
          "name": "stderr",
          "text": [
            "Downloading...\n",
            "From (original): https://drive.google.com/uc?id=1wfxQgcK9y-KOHKYgQmh5juhYbz6NRCSG\n",
            "From (redirected): https://drive.google.com/uc?id=1wfxQgcK9y-KOHKYgQmh5juhYbz6NRCSG&confirm=t&uuid=e7b89d1a-4ec5-4f39-8d16-4dd6c7706e3e\n",
            "To: /content/Agregados_por_setores_domicilios_quilombolas_BR.csv\n",
            "100%|██████████| 369M/369M [00:07<00:00, 51.3MB/s]\n",
            "<ipython-input-31-4882829b2faa>:16: DtypeWarning: Columns (1,2,3,4,5,6,7,8,9,10,11,12,13,14,15,16,17,18,19,20,21,22,23,24,25,26,27,28,29,30,31,32,33,34,35,36,37,38,39,40,41,42,43,44,45,46,47,48,49,50,51,52,53,54,55,56,57,58,59,60,61,62,63,64,65,66,67,68,69,70,71,72,73,74,75,76,77,78,79,80,81,82,83,84,85,86,87,88,89,90,91,92,93,94,95,96,97,98,99,100,101,102,103,104,105,106,107,108,109,110,111,112,113,114,115,116,117,118,119,120,121,122,123,124,125,126,127,128,129,130,131,132,133,134,135,136,137,138,139,140,141,142,143,144,145,146,147,148,149,150,151,152,153,154,155,156,157,158,159,160,161,162,163,164,165,166,167,168,169,170,171,172,173,174,175,176,177,178,179,180,181,182,183,184,185,186,187,188,189,190,191,192,193,194,195,196) have mixed types. Specify dtype option on import or set low_memory=False.\n",
            "  df = pd.read_csv(file_path, encoding='latin9', sep=';')  # Ajuste o delimitador se necessário\n"
          ]
        },
        {
          "output_type": "stream",
          "name": "stdout",
          "text": [
            "Arquivo salvo como: /content/3551009/Agregados_por_setores_domicilios_quilombolas_3551009.csv\n"
          ]
        }
      ]
    },
    {
      "cell_type": "code",
      "source": [
        "processar_arquivo(\"1fxSdtjALjGsbXyN5ocruAsAiYAbXBpKQ\", \"Agregados_por_setores_obitos_BR.csv\", codigo_municipio)"
      ],
      "metadata": {
        "colab": {
          "base_uri": "https://localhost:8080/"
        },
        "id": "8d1ow6uhoLQo",
        "outputId": "94523209-0a4b-4c2f-d9a2-ad2c1c52b862"
      },
      "execution_count": 43,
      "outputs": [
        {
          "output_type": "stream",
          "name": "stderr",
          "text": [
            "Downloading...\n",
            "From (original): https://drive.google.com/uc?id=1fxSdtjALjGsbXyN5ocruAsAiYAbXBpKQ\n",
            "From (redirected): https://drive.google.com/uc?id=1fxSdtjALjGsbXyN5ocruAsAiYAbXBpKQ&confirm=t&uuid=bdec66ce-057b-43d6-95eb-1fc5bf1fa625\n",
            "To: /content/Agregados_por_setores_obitos_BR.csv\n",
            "100%|██████████| 182M/182M [00:01<00:00, 123MB/s]\n",
            "<ipython-input-31-4882829b2faa>:16: DtypeWarning: Columns (2,5,6,8,10,16,17,18,19,21,28,38,39,66,67,70,74,75,78,79,82,86,88,90,91) have mixed types. Specify dtype option on import or set low_memory=False.\n",
            "  df = pd.read_csv(file_path, encoding='latin9', sep=';')  # Ajuste o delimitador se necessário\n"
          ]
        },
        {
          "output_type": "stream",
          "name": "stdout",
          "text": [
            "Arquivo salvo como: /content/3551009/Agregados_por_setores_obitos_3551009.csv\n"
          ]
        }
      ]
    },
    {
      "cell_type": "code",
      "source": [
        "processar_arquivo(\"1NIr6H6OgMVbI2uM0z4oMxCHMPiA0JJpk\", \"Agregados_por_setores_parentesco_BR.csv\", codigo_municipio)"
      ],
      "metadata": {
        "colab": {
          "base_uri": "https://localhost:8080/"
        },
        "id": "ZNcJLKcVoLlZ",
        "outputId": "7f22e244-ed10-4381-b4f1-68acbc752dab"
      },
      "execution_count": 44,
      "outputs": [
        {
          "output_type": "stream",
          "name": "stderr",
          "text": [
            "Downloading...\n",
            "From (original): https://drive.google.com/uc?id=1NIr6H6OgMVbI2uM0z4oMxCHMPiA0JJpk\n",
            "From (redirected): https://drive.google.com/uc?id=1NIr6H6OgMVbI2uM0z4oMxCHMPiA0JJpk&confirm=t&uuid=11d9822f-9ce5-4084-b9ce-b352d3805edd\n",
            "To: /content/Agregados_por_setores_parentesco_BR.csv\n",
            "100%|██████████| 362M/362M [00:05<00:00, 70.5MB/s]\n",
            "<ipython-input-31-4882829b2faa>:16: DtypeWarning: Columns (1,2,17,20,21,26,27,28,43,53,61,64,65,66,76,77,78,89,90,91,92,93,111,112,116,117,118,119,120,121,122,123,124,135,137,139,140,144,145,146,148,149,154,155,164,166,167,168,169,172,173,181,182) have mixed types. Specify dtype option on import or set low_memory=False.\n",
            "  df = pd.read_csv(file_path, encoding='latin9', sep=';')  # Ajuste o delimitador se necessário\n"
          ]
        },
        {
          "output_type": "stream",
          "name": "stdout",
          "text": [
            "Arquivo salvo como: /content/3551009/Agregados_por_setores_parentesco_3551009.csv\n"
          ]
        }
      ]
    },
    {
      "cell_type": "code",
      "source": [
        "processar_arquivo(\"1werm-osC51i6Hi5H3MShw0AIVX1ZD0dj\", \"Agregados_por_setores_pessoas_indigenas_BR.csv\", codigo_municipio)"
      ],
      "metadata": {
        "colab": {
          "base_uri": "https://localhost:8080/"
        },
        "id": "5GquVY9BoL5w",
        "outputId": "098eb3c3-6b33-4b05-d1a7-4e6a2913f83d"
      },
      "execution_count": 45,
      "outputs": [
        {
          "output_type": "stream",
          "name": "stderr",
          "text": [
            "Downloading...\n",
            "From (original): https://drive.google.com/uc?id=1werm-osC51i6Hi5H3MShw0AIVX1ZD0dj\n",
            "From (redirected): https://drive.google.com/uc?id=1werm-osC51i6Hi5H3MShw0AIVX1ZD0dj&confirm=t&uuid=3efbde94-15e1-4141-abdd-5170dab533a3\n",
            "To: /content/Agregados_por_setores_pessoas_indigenas_BR.csv\n",
            "100%|██████████| 1.55G/1.55G [00:29<00:00, 52.3MB/s]\n",
            "<ipython-input-31-4882829b2faa>:16: DtypeWarning: Columns (17,24,32,38,44,45,47,48,49,50,51,57,58,59,60,61,62,64,66,67,70,71,73,74,75,76,77,78,79,81,84,85,86,87,88,89,90,91,92,94,95,96,97,98,99,100,101,103,105,106,107,108,111,113,114,115,118,120,124,125,126,127,128,129,130,131,132,133,134,135,136,137,138,140,141,142,143,144,145,146,147,148,149,150,151,152,153,154,155,156,157,158,159,160,161,162,163,164,165,166,167,168,169,170,171,172,173,174,175,176,177,178,179,180,181,182,185,186,187,188,189,190,191,192,193,194,195,196,197,198,199,200,201,202,203,204,206,207,208,209,210,212,214,215,216,219,221,222,223,225,226,227,228,229,230,231,232,233,234,235,236,237,238,239,240,241,242,243,244,245,246,247,248,249,250,251,252,253,254,255,256,257,258,259,260,261,262,263,264,265,266,267,268,269,270,271,272,273,274,275,276,277,278,279,280,281,282,283,284,285,286,287,288,289,290,291,292,293,294,296,297,298,299,300,301,302,303,305,306,307,308,309,310,311,312,313,314,315,316,317,319,320,321,322,325,326,327,328,329,330,331,332,333,334,335,336,337,338,339,340,342,343,344,345,346,347,348,349,350,351,352,353,354,355,356,357,358,359,360,361,362,363,364,365,366,367,368,369,370,371,372,373,374,375,376,377,378,381,383,387,389,390,392,393,394,398,399,400,403,405,407,409,411,421,425,428,429,430,433,434,438,439,442,443,444,445,452,458,459,461,462,463,464,465,471,472,473,474,475,476,478,480,481,484,485,487,488,489,495,507,508,512,513,514,515,516,518,519,520,521,522,523,524,525,526,527,528,529,530,531,533,534,535,536,537,538,539,540,541,542,543,544,545,546,547,548,549,550,551,552,553,554,555,556,557,558,559,560,561,562,563,564,565,566,567,568,569,570,571,572,573,575,576,577,578,579,580,581,583,584,585,586,587,588,589,590,591,592,593,594,595,596,597,598,599,600,601,603,604,605,606,607,608,609,610,611,612,613,614,615,616,617,618,619,620,621,622,623,624,625,626,627,628,629,630,631,632,633,634,635,636,637,638,639,640,641,642,643,644,645,646,647,648,649,650,651,652,653,654,655,656,657,658,660,661,662,663,664,665,666,667,668,669,670,671,672,673,674,675,676,677,678,679,680,681,682,683,684,685,686,687,688,689,690,691,692,693,694,695,696,697,698,699,700,701,702,703,704,705,706,707,708,709,710,711,712,713,714,715,716,717,718,719,720,721,722,723,724,725,726,727,728,729,730,731,732,733,734,735,736,737,738,739,740,741,742,743,744,745,746,747,748,749,750,751,752,753,754,755,756,757,758,759,760,761,762,763,764,765,766,767,768,769,770,771,772,773,774,775,776,777,778,779,780,781,782,783,784,785,786,787,788,789,790,791,792,793,794,795,796,797,798,799,800,801,802,803,804,805,806,807,808,809,810,811,812,813,814,815,816,817,818,819,820,821,822,823,824,825,826,827,828,829,830,831,832,833,834,835,836,837,838,839) have mixed types. Specify dtype option on import or set low_memory=False.\n",
            "  df = pd.read_csv(file_path, encoding='latin9', sep=';')  # Ajuste o delimitador se necessário\n"
          ]
        },
        {
          "output_type": "stream",
          "name": "stdout",
          "text": [
            "Arquivo salvo como: /content/3551009/Agregados_por_setores_pessoas_indigenas_3551009.csv\n"
          ]
        }
      ]
    },
    {
      "cell_type": "code",
      "source": [
        "processar_arquivo(\"13biRZaMWAPLMZ5JilPIrSkGe_-dKwtfE\", \"Agregados_por_setores_pessoas_quilombolas_BR.csv\", codigo_municipio)"
      ],
      "metadata": {
        "colab": {
          "base_uri": "https://localhost:8080/"
        },
        "id": "dHl29DMxoMO4",
        "outputId": "bbe35557-a8cf-48b2-e25a-59b9d81d7ca2"
      },
      "execution_count": 46,
      "outputs": [
        {
          "output_type": "stream",
          "name": "stderr",
          "text": [
            "Downloading...\n",
            "From (original): https://drive.google.com/uc?id=13biRZaMWAPLMZ5JilPIrSkGe_-dKwtfE\n",
            "From (redirected): https://drive.google.com/uc?id=13biRZaMWAPLMZ5JilPIrSkGe_-dKwtfE&confirm=t&uuid=21df2815-b3c3-42c9-9491-cc4d95dec004\n",
            "To: /content/Agregados_por_setores_pessoas_quilombolas_BR.csv\n",
            "100%|██████████| 1.39G/1.39G [00:18<00:00, 74.8MB/s]\n",
            "<ipython-input-31-4882829b2faa>:16: DtypeWarning: Columns (1,2,3,4,5,6,7,8,9,10,11,12,13,14,15,16,17,18,19,20,21,22,23,24,25,26,27,28,29,30,31,32,33,34,35,36,37,38,39,40,41,42,43,44,45,46,47,48,49,50,51,52,53,54,55,56,57,58,59,60,61,62,63,64,65,66,67,68,69,70,71,72,73,74,75,76,77,78,79,80,81,82,83,84,85,86,87,88,89,90,91,92,93,94,95,96,97,98,99,100,101,102,103,104,105,106,107,108,109,110,111,112,113,114,115,116,117,118,119,120,121,122,123,124,125,126,127,128,129,130,131,132,133,134,135,136,137,138,139,140,141,142,143,144,145,146,147,148,149,150,151,152,153,154,155,156,157,158,159,160,161,162,163,164,165,166,167,168,169,170,171,172,173,174,175,176,177,178,179,180,181,182,183,184,185,186,187,188,189,190,191,192,193,194,195,196,197,198,199,200,201,202,203,204,205,206,207,208,209,210,211,212,213,214,215,216,217,218,219,220,221,222,223,224,225,226,227,228,229,230,231,232,233,234,235,236,237,238,239,240,241,242,243,244,245,246,247,248,249,250,251,252,253,254,255,256,257,258,259,260,261,262,263,264,265,266,267,268,269,270,271,272,273,274,275,276,277,278,279,280,281,282,283,284,285,286,287,288,289,290,291,292,293,294,295,296,297,298,299,300,301,302,303,304,305,306,307,308,309,310,311,312,313,314,315,316,317,318,319,320,321,322,323,324,325,326,327,328,329,330,331,332,333,334,335,336,337,338,339,340,341,342,343,344,345,346,347,348,349,350,351,352,353,354,355,356,357,358,359,360,361,362,363,364,365,366,367,368,369,370,371,372,373,374,375,376,377,378,379,380,381,382,383,384,385,386,387,388,389,390,391,392,393,394,395,396,397,398,399,400,401,402,403,404,405,406,407,408,409,410,411,412,413,414,415,416,417,418,419,420,421,422,423,424,425,426,427,428,429,430,431,432,433,434,435,436,437,438,439,440,441,442,443,444,445,446,447,448,449,450,451,452,453,454,455,456,457,458,459,460,461,462,463,464,465,466,467,468,469,470,471,472,473,474,475,476,477,478,479,480,481,482,483,484,485,486,487,488,489,490,491,492,493,494,495,496,497,498,499,500,501,502,503,504,505,506,507,508,509,510,511,512,513,514,515,516,517,518,519,520,521,522,523,524,525,526,527,528,529,530,531,532,533,534,535,536,537,538,539,540,541,542,543,544,545,546,547,548,549,550,551,552,553,554,555,556,557,558,559,560,561,562,563,564,565,566,567,568,569,570,571,572,573,574,575,576,577,578,579,580,581,582,583,584,585,586,587,588,589,590,591,592,593,594,595,596,597,598,599,600,601,602,603,604,605,606,607,608,609,610,611,612,613,614,615,616,617,618,619,620,621,622,623,624,625,626,627,628,629,630,631,632,633,634,635,636,637,638,639,640,641,642,643,644,645,646,647,648,649,650,651,652,653,654,655,656,657,658,659,660,661,662,663,664,665,666,667,668,669,670,671,672,673,674,675,676,677,678,679,680,681,682,683,684,685,686,687,688,689,690,691,692,693,694,695,696,697,698,699,700,701,702,703,704,705,706,707,708,709,710,711,712,713,714,715,716,717,718,719,720,721,722,723,724,725,726,727,728,729,730,731,732,733,734,735,736,737,738,739,740,741,742,743,744,745,746,747,748,749,750,751,752,753,754,755) have mixed types. Specify dtype option on import or set low_memory=False.\n",
            "  df = pd.read_csv(file_path, encoding='latin9', sep=';')  # Ajuste o delimitador se necessário\n"
          ]
        },
        {
          "output_type": "stream",
          "name": "stdout",
          "text": [
            "Arquivo salvo como: /content/3551009/Agregados_por_setores_pessoas_quilombolas_3551009.csv\n"
          ]
        }
      ]
    },
    {
      "cell_type": "code",
      "source": [
        "import os\n",
        "import shutil\n",
        "from google.colab import files\n",
        "\n",
        "def zipar_arquivos(diretorio, nome_zip):\n",
        "    \"\"\"Zipar todos os arquivos do diretório especificado.\"\"\"\n",
        "    # Criar o arquivo zip a partir do diretório\n",
        "    shutil.make_archive(nome_zip, 'zip', diretorio)\n",
        "    print(f\"Arquivo ZIP criado: {nome_zip}.zip\")\n",
        "\n",
        "def baixar_zip(nome_zip):\n",
        "    \"\"\"Baixar o arquivo ZIP gerado no ambiente Colab.\"\"\"\n",
        "    # Baixar o arquivo zip gerado\n",
        "    files.download(f\"{nome_zip}.zip\")\n",
        "    print(f\"Iniciando o download do arquivo {nome_zip}.zip\")\n",
        "\n",
        "# Definir o diretório onde os arquivos estão armazenados e o nome do arquivo zip\n",
        "nome_zip = \"content/arquivos_censo\"  # Nome do arquivo zip a ser gerado\n",
        "\n",
        "# Zipar os arquivos\n",
        "zipar_arquivos(caminho_diretorio, nome_zip)\n",
        "\n",
        "# Baixar o arquivo ZIP\n",
        "baixar_zip(nome_zip)\n"
      ],
      "metadata": {
        "colab": {
          "base_uri": "https://localhost:8080/",
          "height": 52
        },
        "id": "IVhqjfqRrCwY",
        "outputId": "57c36eaf-8b38-4029-defc-9696d1e897d1"
      },
      "execution_count": 48,
      "outputs": [
        {
          "output_type": "stream",
          "name": "stdout",
          "text": [
            "Arquivo ZIP criado: content/arquivos_censo.zip\n"
          ]
        },
        {
          "output_type": "display_data",
          "data": {
            "text/plain": [
              "<IPython.core.display.Javascript object>"
            ],
            "application/javascript": [
              "\n",
              "    async function download(id, filename, size) {\n",
              "      if (!google.colab.kernel.accessAllowed) {\n",
              "        return;\n",
              "      }\n",
              "      const div = document.createElement('div');\n",
              "      const label = document.createElement('label');\n",
              "      label.textContent = `Downloading \"${filename}\": `;\n",
              "      div.appendChild(label);\n",
              "      const progress = document.createElement('progress');\n",
              "      progress.max = size;\n",
              "      div.appendChild(progress);\n",
              "      document.body.appendChild(div);\n",
              "\n",
              "      const buffers = [];\n",
              "      let downloaded = 0;\n",
              "\n",
              "      const channel = await google.colab.kernel.comms.open(id);\n",
              "      // Send a message to notify the kernel that we're ready.\n",
              "      channel.send({})\n",
              "\n",
              "      for await (const message of channel.messages) {\n",
              "        // Send a message to notify the kernel that we're ready.\n",
              "        channel.send({})\n",
              "        if (message.buffers) {\n",
              "          for (const buffer of message.buffers) {\n",
              "            buffers.push(buffer);\n",
              "            downloaded += buffer.byteLength;\n",
              "            progress.value = downloaded;\n",
              "          }\n",
              "        }\n",
              "      }\n",
              "      const blob = new Blob(buffers, {type: 'application/binary'});\n",
              "      const a = document.createElement('a');\n",
              "      a.href = window.URL.createObjectURL(blob);\n",
              "      a.download = filename;\n",
              "      div.appendChild(a);\n",
              "      a.click();\n",
              "      div.remove();\n",
              "    }\n",
              "  "
            ]
          },
          "metadata": {}
        },
        {
          "output_type": "display_data",
          "data": {
            "text/plain": [
              "<IPython.core.display.Javascript object>"
            ],
            "application/javascript": [
              "download(\"download_66f0628f-6df6-4f53-9692-6f81ce90d98d\", \"arquivos_censo.zip\", 566277)"
            ]
          },
          "metadata": {}
        },
        {
          "output_type": "stream",
          "name": "stdout",
          "text": [
            "Iniciando o download do arquivo content/arquivos_censo.zip\n"
          ]
        }
      ]
    }
  ],
  "metadata": {
    "colab": {
      "provenance": [],
      "authorship_tag": "ABX9TyPUlXlcIc6twjGXcPL+aMcJ",
      "include_colab_link": true
    },
    "kernelspec": {
      "display_name": "Python 3",
      "name": "python3"
    },
    "language_info": {
      "name": "python"
    }
  },
  "nbformat": 4,
  "nbformat_minor": 0
}