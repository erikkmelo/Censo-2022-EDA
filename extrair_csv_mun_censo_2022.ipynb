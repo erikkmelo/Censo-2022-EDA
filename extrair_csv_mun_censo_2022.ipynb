{
  "cells": [
    {
      "cell_type": "markdown",
      "metadata": {
        "id": "view-in-github",
        "colab_type": "text"
      },
      "source": [
        "<a href=\"https://colab.research.google.com/github/erikkmelo/Censo-2022-EDA/blob/main/extrair_csv_mun_censo_2022.ipynb\" target=\"_parent\"><img src=\"https://colab.research.google.com/assets/colab-badge.svg\" alt=\"Open In Colab\"/></a>"
      ]
    },
    {
      "cell_type": "markdown",
      "source": [
        "# Instalações e Bibliotecas necessárias"
      ],
      "metadata": {
        "id": "R-5G5cpcPWqA"
      }
    },
    {
      "cell_type": "code",
      "execution_count": 1,
      "metadata": {
        "id": "oJDcWEbH758Y"
      },
      "outputs": [],
      "source": [
        "#!pip install gdown\n",
        "import gdown\n",
        "import pandas as pd\n",
        "import os"
      ]
    },
    {
      "cell_type": "markdown",
      "source": [
        "# 1º Passo - Escolha o município através do código dos municípios IBGE\n",
        "\n",
        "# Códigos dos municípios IBGE\n",
        "\n",
        "https://www.ibge.gov.br/explica/codigos-dos-municipios.php#SP"
      ],
      "metadata": {
        "id": "2dIJ-xA9OJe7"
      }
    },
    {
      "cell_type": "code",
      "source": [
        "# Definir o código do município pelos 7 primeiros dígitos\n",
        "codigo_municipio = \"3551009\"  # Substitua pelo código desejado p.ex. 3551009 - São Vicente - SP"
      ],
      "metadata": {
        "id": "beT06Nn4Oypu"
      },
      "execution_count": 2,
      "outputs": []
    },
    {
      "cell_type": "markdown",
      "source": [
        "# Agregados_por_setores_basico_BR.csv"
      ],
      "metadata": {
        "id": "hFb0Z-YWSeTs"
      }
    },
    {
      "cell_type": "code",
      "execution_count": 3,
      "metadata": {
        "id": "BtA2EozmAsBm",
        "colab": {
          "base_uri": "https://localhost:8080/"
        },
        "outputId": "369071c0-0de0-49e8-f36c-eb73d3513baf"
      },
      "outputs": [
        {
          "output_type": "stream",
          "name": "stderr",
          "text": [
            "Downloading...\n",
            "From (original): https://drive.google.com/uc?id=1mM7kVMKOr5U2MMOqneMRHYBcY9cunYxy\n",
            "From (redirected): https://drive.google.com/uc?id=1mM7kVMKOr5U2MMOqneMRHYBcY9cunYxy&confirm=t&uuid=054c97fa-11c9-4362-a5ed-6a39202c6c2c\n",
            "To: /content/Agregados_por_setores_basico_BR.csv\n",
            "100%|██████████| 137M/137M [00:02<00:00, 54.3MB/s]\n",
            "<ipython-input-3-01c59cdf8cb6>:11: DtypeWarning: Columns (2,3,9,11,13,14,23,25) have mixed types. Specify dtype option on import or set low_memory=False.\n",
            "  df = pd.read_csv(nome_colab, encoding='latin9', sep=';')  # Ajuste o delimitador se necessário\n"
          ]
        }
      ],
      "source": [
        "# Arquivo do drive que foi baixado no site do censo 2022 - https://www.ibge.gov.br/estatisticas/downloads-estatisticas.html?caminho=Censos/Censo_Demografico_2022/Agregados_por_Setores_Censitarios/Agregados_por_Setor_csv/\n",
        "file_id = \"1mM7kVMKOr5U2MMOqneMRHYBcY9cunYxy\"\n",
        "file_name = \"Agregados_por_setores_basico_BR.csv\"  # Nome que será usado no Colab\n",
        "url = f\"https://drive.google.com/uc?id={file_id}\"\n",
        "\n",
        "# Baixar o arquivo\n",
        "gdown.download(url, file_name, quiet=False)\n",
        "\n",
        "# Carregar o arquivo CSV com a codificação apropriada\n",
        "nome_colab = f\"/content/{file_name}\"\n",
        "df = pd.read_csv(nome_colab, encoding='latin9', sep=';')  # Ajuste o delimitador se necessário"
      ]
    },
    {
      "cell_type": "code",
      "source": [
        "# Filtrar o DataFrame com base nos 7 primeiros dígitos do CD_SETOR\n",
        "df_municipio = df[df['CD_SETOR'].astype(str).str[:7] == codigo_municipio]\n",
        "\n",
        "csv_mun = file_name.replace(\"BR\", codigo_municipio)\n",
        "\n",
        "# Definir o caminho do diretório e do arquivo\n",
        "caminho_diretorio = f\"/content/{codigo_municipio}\"\n",
        "caminho_arquivo = f\"{caminho_diretorio}/{csv_mun}\"\n",
        "\n",
        "# Criar o diretório, se não existir\n",
        "os.makedirs(caminho_diretorio, exist_ok=True)\n",
        "\n",
        "# Salvar o DataFrame filtrado\n",
        "df_municipio.to_csv(caminho_arquivo, index=False, sep=';', encoding='UTF-8')\n",
        "\n",
        "print(f\"Arquivo salvo como: {caminho_arquivo}\")"
      ],
      "metadata": {
        "colab": {
          "base_uri": "https://localhost:8080/"
        },
        "id": "Fztq3Z6mShHd",
        "outputId": "d85da41a-4807-4ad7-ffcd-1af5b79d0941"
      },
      "execution_count": 5,
      "outputs": [
        {
          "output_type": "stream",
          "name": "stdout",
          "text": [
            "Arquivo salvo como: /content/3551009/Agregados_por_setores_basico_3551009.csv\n"
          ]
        }
      ]
    },
    {
      "cell_type": "markdown",
      "source": [
        "# Agregados_por_setores_alfabetizacao_3551009.csv"
      ],
      "metadata": {
        "id": "_1jHFycPSW-G"
      }
    },
    {
      "cell_type": "code",
      "source": [
        "# Arquivo do drive que foi baixado no site do censo 2022 - https://www.ibge.gov.br/estatisticas/downloads-estatisticas.html?caminho=Censos/Censo_Demografico_2022/Agregados_por_Setores_Censitarios/Agregados_por_Setor_csv/\n",
        "file_id = \"13YQRRIXqURVHqKmBeiUU7eoYSeGG3p7y\"\n",
        "file_name = \"Agregados_por_setores_alfabetizacao_BR.csv\"  # Nome que será usado no Colab\n",
        "url = f\"https://drive.google.com/uc?id={file_id}\"\n",
        "\n",
        "# Baixar o arquivo\n",
        "gdown.download(url, file_name, quiet=False)\n",
        "\n",
        "# Carregar o arquivo CSV com a codificação apropriada\n",
        "nome_colab = f\"/content/{file_name}\"\n",
        "df = pd.read_csv(nome_colab, encoding='latin9', sep=';')  # Ajuste o delimitador se necessário\n"
      ],
      "metadata": {
        "colab": {
          "base_uri": "https://localhost:8080/"
        },
        "id": "6agto3HVQ6e1",
        "outputId": "8d1cd2b4-428f-4813-8d12-9da2717686c5"
      },
      "execution_count": null,
      "outputs": [
        {
          "output_type": "stream",
          "name": "stderr",
          "text": [
            "Downloading...\n",
            "From (original): https://drive.google.com/uc?id=13YQRRIXqURVHqKmBeiUU7eoYSeGG3p7y\n",
            "From (redirected): https://drive.google.com/uc?id=13YQRRIXqURVHqKmBeiUU7eoYSeGG3p7y&confirm=t&uuid=09cbdf49-25bc-42dc-be71-777882a03c51\n",
            "To: /content/Agregados_por_setores_alfabetizacao_BR.csv\n",
            "100%|██████████| 735M/735M [00:09<00:00, 77.1MB/s]\n"
          ]
        }
      ]
    },
    {
      "cell_type": "code",
      "source": [
        "# Filtrar o DataFrame com base nos 7 primeiros dígitos do CD_SETOR\n",
        "df_municipio = df[df['CD_setor'].astype(str).str[:7] == codigo_municipio]\n",
        "\n",
        "csv_mun = file_name.replace(\"BR\", codigo_municipio)\n",
        "\n",
        "# Definir o caminho do diretório e do arquivo\n",
        "caminho_diretorio = f\"/content/{codigo_municipio}\"\n",
        "caminho_arquivo = f\"{caminho_diretorio}/{csv_mun}\"\n",
        "\n",
        "# Criar o diretório, se não existir\n",
        "os.makedirs(caminho_diretorio, exist_ok=True)\n",
        "\n",
        "# Salvar o DataFrame filtrado\n",
        "df_municipio.to_csv(caminho_arquivo, index=False, sep=';', encoding='UTF-8')\n",
        "\n",
        "print(f\"Arquivo salvo como: {caminho_arquivo}\")"
      ],
      "metadata": {
        "id": "64I14lVdST8P"
      },
      "execution_count": null,
      "outputs": []
    },
    {
      "cell_type": "markdown",
      "source": [
        "# Agregados_por_setores_caracteristicas_domicilio1_BR.csv"
      ],
      "metadata": {
        "id": "-mzsGME7WB0W"
      }
    },
    {
      "cell_type": "code",
      "source": [
        "# Arquivo do drive que foi baixado no site do censo 2022 - https://www.ibge.gov.br/estatisticas/downloads-estatisticas.html?caminho=Censos/Censo_Demografico_2022/Agregados_por_Setores_Censitarios/Agregados_por_Setor_csv/\n",
        "file_id = \"1lau-qV7TfJVgM2RWHd8b0v-t__rdm9KE\"\n",
        "file_name = \"Agregados_por_setores_caracteristicas_domicilio1_BR.csv\"  # Nome que será usado no Colab\n",
        "url = f\"https://drive.google.com/uc?id={file_id}\"\n",
        "\n",
        "# Baixar o arquivo\n",
        "gdown.download(url, file_name, quiet=False)\n",
        "\n",
        "# Carregar o arquivo CSV com a codificação apropriada\n",
        "nome_colab = f\"/content/{file_name}\"\n",
        "df = pd.read_csv(nome_colab, encoding='latin9', sep=';')  # Ajuste o delimitador se necessário"
      ],
      "metadata": {
        "id": "hBvI0BacXK_5"
      },
      "execution_count": null,
      "outputs": []
    },
    {
      "cell_type": "code",
      "source": [
        "# Filtrar o DataFrame com base nos 7 primeiros dígitos do CD_SETOR\n",
        "df_municipio = df[df['CD_setor'].astype(str).str[:7] == codigo_municipio]\n",
        "\n",
        "csv_mun = file_name.replace(\"BR\", codigo_municipio)\n",
        "\n",
        "# Definir o caminho do diretório e do arquivo\n",
        "caminho_diretorio = f\"/content/{codigo_municipio}\"\n",
        "caminho_arquivo = f\"{caminho_diretorio}/{csv_mun}\"\n",
        "\n",
        "# Criar o diretório, se não existir\n",
        "os.makedirs(caminho_diretorio, exist_ok=True)\n",
        "\n",
        "# Salvar o DataFrame filtrado\n",
        "df_municipio.to_csv(caminho_arquivo, index=False, sep=';', encoding='UTF-8')\n",
        "\n",
        "print(f\"Arquivo salvo como: {caminho_arquivo}\")"
      ],
      "metadata": {
        "id": "2v49jaQEXLz5"
      },
      "execution_count": null,
      "outputs": []
    },
    {
      "cell_type": "markdown",
      "source": [
        "# Agregados_por_setores_caracteristicas_domicilio2_BR.csv"
      ],
      "metadata": {
        "id": "lHCrwWd1XL6x"
      }
    },
    {
      "cell_type": "code",
      "source": [
        "# Arquivo do drive que foi baixado no site do censo 2022 - https://www.ibge.gov.br/estatisticas/downloads-estatisticas.html?caminho=Censos/Censo_Demografico_2022/Agregados_por_Setores_Censitarios/Agregados_por_Setor_csv/\n",
        "file_id = \"1QUkq0107d_w10xxB3lyZhBImVwHb6Ymp\"\n",
        "file_name = \"Agregados_por_setores_caracteristicas_domicilio2_BR.csv\"  # Nome que será usado no Colab\n",
        "url = f\"https://drive.google.com/uc?id={file_id}\"\n",
        "\n",
        "# Baixar o arquivo\n",
        "gdown.download(url, file_name, quiet=False)\n",
        "\n",
        "# Carregar o arquivo CSV com a codificação apropriada\n",
        "nome_colab = f\"/content/{file_name}\"\n",
        "df = pd.read_csv(nome_colab, encoding='latin9', sep=';')  # Ajuste o delimitador se necessário"
      ],
      "metadata": {
        "id": "RuHrVMpLYiWP"
      },
      "execution_count": null,
      "outputs": []
    },
    {
      "cell_type": "code",
      "source": [
        "# Filtrar o DataFrame com base nos 7 primeiros dígitos do CD_SETOR\n",
        "df_municipio = df[df['CD_setor'].astype(str).str[:7] == codigo_municipio]\n",
        "\n",
        "csv_mun = file_name.replace(\"BR\", codigo_municipio)\n",
        "\n",
        "# Definir o caminho do diretório e do arquivo\n",
        "caminho_diretorio = f\"/content/{codigo_municipio}\"\n",
        "caminho_arquivo = f\"{caminho_diretorio}/{csv_mun}\"\n",
        "\n",
        "# Criar o diretório, se não existir\n",
        "os.makedirs(caminho_diretorio, exist_ok=True)\n",
        "\n",
        "# Salvar o DataFrame filtrado\n",
        "df_municipio.to_csv(caminho_arquivo, index=False, sep=';', encoding='UTF-8')\n",
        "\n",
        "print(f\"Arquivo salvo como: {caminho_arquivo}\")"
      ],
      "metadata": {
        "id": "aDl6E96WYiYm"
      },
      "execution_count": null,
      "outputs": []
    },
    {
      "cell_type": "markdown",
      "source": [
        "# Agregados_por_setores_caracteristicas_domicilio3_BR.csv"
      ],
      "metadata": {
        "id": "ryzkR0hvXO1p"
      }
    },
    {
      "cell_type": "code",
      "source": [
        "# Arquivo do drive que foi baixado no site do censo 2022 - https://www.ibge.gov.br/estatisticas/downloads-estatisticas.html?caminho=Censos/Censo_Demografico_2022/Agregados_por_Setores_Censitarios/Agregados_por_Setor_csv/\n",
        "file_id = \"1jIHOCfofQ4wvtdeKN1XgZQ0by0Lge9Z8\"\n",
        "file_name = \"Agregados_por_setores_caracteristicas_domicilio3_BR.csv\"  # Nome que será usado no Colab\n",
        "url = f\"https://drive.google.com/uc?id={file_id}\"\n",
        "\n",
        "# Baixar o arquivo\n",
        "gdown.download(url, file_name, quiet=False)\n",
        "\n",
        "# Carregar o arquivo CSV com a codificação apropriada\n",
        "nome_colab = f\"/content/{file_name}\"\n",
        "df = pd.read_csv(nome_colab, encoding='latin9', sep=';')  # Ajuste o delimitador se necessário"
      ],
      "metadata": {
        "id": "d_4p35YRYi2f"
      },
      "execution_count": null,
      "outputs": []
    },
    {
      "cell_type": "code",
      "source": [
        "# Filtrar o DataFrame com base nos 7 primeiros dígitos do CD_SETOR\n",
        "df_municipio = df[df['CD_setor'].astype(str).str[:7] == codigo_municipio]\n",
        "\n",
        "csv_mun = file_name.replace(\"BR\", codigo_municipio)\n",
        "\n",
        "# Definir o caminho do diretório e do arquivo\n",
        "caminho_diretorio = f\"/content/{codigo_municipio}\"\n",
        "caminho_arquivo = f\"{caminho_diretorio}/{csv_mun}\"\n",
        "\n",
        "# Criar o diretório, se não existir\n",
        "os.makedirs(caminho_diretorio, exist_ok=True)\n",
        "\n",
        "# Salvar o DataFrame filtrado\n",
        "df_municipio.to_csv(caminho_arquivo, index=False, sep=';', encoding='UTF-8')\n",
        "\n",
        "print(f\"Arquivo salvo como: {caminho_arquivo}\")"
      ],
      "metadata": {
        "id": "vB7E_owQYi5S"
      },
      "execution_count": null,
      "outputs": []
    },
    {
      "cell_type": "markdown",
      "source": [
        "# Agregados_por_setores_cor_ou_raca_BR.csv"
      ],
      "metadata": {
        "id": "z0rusPccXShR"
      }
    },
    {
      "cell_type": "code",
      "source": [
        "# Arquivo do drive que foi baixado no site do censo 2022 - https://www.ibge.gov.br/estatisticas/downloads-estatisticas.html?caminho=Censos/Censo_Demografico_2022/Agregados_por_Setores_Censitarios/Agregados_por_Setor_csv/\n",
        "file_id = \"1T5QYq8o-jNFjvbYzZPgtThujiGQxn0_X\"\n",
        "file_name = \"Agregados_por_setores_cor_ou_raca_BR.csv\"  # Nome que será usado no Colab\n",
        "url = f\"https://drive.google.com/uc?id={file_id}\"\n",
        "\n",
        "# Baixar o arquivo\n",
        "gdown.download(url, file_name, quiet=False)\n",
        "\n",
        "# Carregar o arquivo CSV com a codificação apropriada\n",
        "nome_colab = f\"/content/{file_name}\"\n",
        "df = pd.read_csv(nome_colab, encoding='latin9', sep=';')  # Ajuste o delimitador se necessário"
      ],
      "metadata": {
        "id": "9zldNDLwYjbl"
      },
      "execution_count": null,
      "outputs": []
    },
    {
      "cell_type": "code",
      "source": [
        "# Filtrar o DataFrame com base nos 7 primeiros dígitos do CD_SETOR\n",
        "df_municipio = df[df['CD_SETOR'].astype(str).str[:7] == codigo_municipio]\n",
        "\n",
        "csv_mun = file_name.replace(\"BR\", codigo_municipio)\n",
        "\n",
        "# Definir o caminho do diretório e do arquivo\n",
        "caminho_diretorio = f\"/content/{codigo_municipio}\"\n",
        "caminho_arquivo = f\"{caminho_diretorio}/{csv_mun}\"\n",
        "\n",
        "# Criar o diretório, se não existir\n",
        "os.makedirs(caminho_diretorio, exist_ok=True)\n",
        "\n",
        "# Salvar o DataFrame filtrado\n",
        "df_municipio.to_csv(caminho_arquivo, index=False, sep=';', encoding='UTF-8')\n",
        "\n",
        "print(f\"Arquivo salvo como: {caminho_arquivo}\")"
      ],
      "metadata": {
        "id": "gaaiqVfDYjd1"
      },
      "execution_count": null,
      "outputs": []
    },
    {
      "cell_type": "markdown",
      "source": [
        "# Agregados_por_setores_demografia_BR.csv"
      ],
      "metadata": {
        "id": "Fvyh7Fq-XX9R"
      }
    },
    {
      "cell_type": "code",
      "source": [
        "# Arquivo do drive que foi baixado no site do censo 2022 - https://www.ibge.gov.br/estatisticas/downloads-estatisticas.html?caminho=Censos/Censo_Demografico_2022/Agregados_por_Setores_Censitarios/Agregados_por_Setor_csv/\n",
        "file_id = \"1E2gc_Tunw63bWVW3Iix4vpvHDeRxYmz6\"\n",
        "file_name = \"Agregados_por_setores_demografia_BR.csv\"  # Nome que será usado no Colab\n",
        "url = f\"https://drive.google.com/uc?id={file_id}\"\n",
        "\n",
        "# Baixar o arquivo\n",
        "gdown.download(url, file_name, quiet=False)\n",
        "\n",
        "# Carregar o arquivo CSV com a codificação apropriada\n",
        "nome_colab = f\"/content/{file_name}\"\n",
        "df = pd.read_csv(nome_colab, encoding='latin9', sep=';')  # Ajuste o delimitador se necessário"
      ],
      "metadata": {
        "id": "pt2_izNdYj71"
      },
      "execution_count": null,
      "outputs": []
    },
    {
      "cell_type": "code",
      "source": [
        "# Filtrar o DataFrame com base nos 7 primeiros dígitos do CD_SETOR\n",
        "df_municipio = df[df['CD_setor'].astype(str).str[:7] == codigo_municipio]\n",
        "\n",
        "csv_mun = file_name.replace(\"BR\", codigo_municipio)\n",
        "\n",
        "# Definir o caminho do diretório e do arquivo\n",
        "caminho_diretorio = f\"/content/{codigo_municipio}\"\n",
        "caminho_arquivo = f\"{caminho_diretorio}/{csv_mun}\"\n",
        "\n",
        "# Criar o diretório, se não existir\n",
        "os.makedirs(caminho_diretorio, exist_ok=True)\n",
        "\n",
        "# Salvar o DataFrame filtrado\n",
        "df_municipio.to_csv(caminho_arquivo, index=False, sep=';', encoding='UTF-8')\n",
        "\n",
        "print(f\"Arquivo salvo como: {caminho_arquivo}\")"
      ],
      "metadata": {
        "id": "n16DjJ0RYj-T"
      },
      "execution_count": null,
      "outputs": []
    },
    {
      "cell_type": "markdown",
      "source": [
        "# Agregados_por_setores_domicilios_indigenas_BR.csv"
      ],
      "metadata": {
        "id": "LGUFD1MVXbGw"
      }
    },
    {
      "cell_type": "code",
      "source": [
        "# Arquivo do drive que foi baixado no site do censo 2022 - https://www.ibge.gov.br/estatisticas/downloads-estatisticas.html?caminho=Censos/Censo_Demografico_2022/Agregados_por_Setores_Censitarios/Agregados_por_Setor_csv/\n",
        "file_id = \"1s89nZcmdJLGcCU0ns-Oj3sx8EVI2Lp4E\"\n",
        "file_name = \"Agregados_por_setores_domicilios_indigenas_BR.csv\"  # Nome que será usado no Colab\n",
        "url = f\"https://drive.google.com/uc?id={file_id}\"\n",
        "\n",
        "# Baixar o arquivo\n",
        "gdown.download(url, file_name, quiet=False)\n",
        "\n",
        "# Carregar o arquivo CSV com a codificação apropriada\n",
        "nome_colab = f\"/content/{file_name}\"\n",
        "df = pd.read_csv(nome_colab, encoding='latin9', sep=';')  # Ajuste o delimitador se necessário"
      ],
      "metadata": {
        "id": "2fDPtDz5YkcU"
      },
      "execution_count": null,
      "outputs": []
    },
    {
      "cell_type": "code",
      "source": [
        "# Filtrar o DataFrame com base nos 7 primeiros dígitos do CD_SETOR\n",
        "df_municipio = df[df['CD_SETOR'].astype(str).str[:7] == codigo_municipio]\n",
        "\n",
        "csv_mun = file_name.replace(\"BR\", codigo_municipio)\n",
        "\n",
        "# Definir o caminho do diretório e do arquivo\n",
        "caminho_diretorio = f\"/content/{codigo_municipio}\"\n",
        "caminho_arquivo = f\"{caminho_diretorio}/{csv_mun}\"\n",
        "\n",
        "# Criar o diretório, se não existir\n",
        "os.makedirs(caminho_diretorio, exist_ok=True)\n",
        "\n",
        "# Salvar o DataFrame filtrado\n",
        "df_municipio.to_csv(caminho_arquivo, index=False, sep=';', encoding='UTF-8')\n",
        "\n",
        "print(f\"Arquivo salvo como: {caminho_arquivo}\")"
      ],
      "metadata": {
        "id": "7Zy-w3X5Yke9"
      },
      "execution_count": null,
      "outputs": []
    },
    {
      "cell_type": "markdown",
      "source": [
        "# Agregados_por_setores_domicilios_quilombolas_BR.csv"
      ],
      "metadata": {
        "id": "2PuZtwytXd0o"
      }
    },
    {
      "cell_type": "code",
      "source": [
        "# Arquivo do drive que foi baixado no site do censo 2022 - https://www.ibge.gov.br/estatisticas/downloads-estatisticas.html?caminho=Censos/Censo_Demografico_2022/Agregados_por_Setores_Censitarios/Agregados_por_Setor_csv/\n",
        "file_id = \"1wfxQgcK9y-KOHKYgQmh5juhYbz6NRCSG\"\n",
        "file_name = \"Agregados_por_setores_domicilios_quilombolas_BR.csv\"  # Nome que será usado no Colab\n",
        "url = f\"https://drive.google.com/uc?id={file_id}\"\n",
        "\n",
        "# Baixar o arquivo\n",
        "gdown.download(url, file_name, quiet=False)\n",
        "\n",
        "# Carregar o arquivo CSV com a codificação apropriada\n",
        "nome_colab = f\"/content/{file_name}\"\n",
        "df = pd.read_csv(nome_colab, encoding='latin9', sep=';')  # Ajuste o delimitador se necessário"
      ],
      "metadata": {
        "id": "IWlLLgrSYk_s"
      },
      "execution_count": null,
      "outputs": []
    },
    {
      "cell_type": "code",
      "source": [
        "# Filtrar o DataFrame com base nos 7 primeiros dígitos do CD_SETOR\n",
        "df_municipio = df[df['CD_SETOR'].astype(str).str[:7] == codigo_municipio]\n",
        "\n",
        "csv_mun = file_name.replace(\"BR\", codigo_municipio)\n",
        "\n",
        "# Definir o caminho do diretório e do arquivo\n",
        "caminho_diretorio = f\"/content/{codigo_municipio}\"\n",
        "caminho_arquivo = f\"{caminho_diretorio}/{csv_mun}\"\n",
        "\n",
        "# Criar o diretório, se não existir\n",
        "os.makedirs(caminho_diretorio, exist_ok=True)\n",
        "\n",
        "# Salvar o DataFrame filtrado\n",
        "df_municipio.to_csv(caminho_arquivo, index=False, sep=';', encoding='UTF-8')\n",
        "\n",
        "print(f\"Arquivo salvo como: {caminho_arquivo}\")"
      ],
      "metadata": {
        "id": "-274Kd0RYlCV"
      },
      "execution_count": null,
      "outputs": []
    },
    {
      "cell_type": "markdown",
      "source": [
        "# Agregados_por_setores_obitos_BR.csv"
      ],
      "metadata": {
        "id": "_dccTMxmXhIA"
      }
    },
    {
      "cell_type": "code",
      "source": [
        "# Arquivo do drive que foi baixado no site do censo 2022 - https://www.ibge.gov.br/estatisticas/downloads-estatisticas.html?caminho=Censos/Censo_Demografico_2022/Agregados_por_Setores_Censitarios/Agregados_por_Setor_csv/\n",
        "file_id = \"1fxSdtjALjGsbXyN5ocruAsAiYAbXBpKQ\"\n",
        "file_name = \"Agregados_por_setores_obitos_BR.csv\"  # Nome que será usado no Colab\n",
        "url = f\"https://drive.google.com/uc?id={file_id}\"\n",
        "\n",
        "# Baixar o arquivo\n",
        "gdown.download(url, file_name, quiet=False)\n",
        "\n",
        "# Carregar o arquivo CSV com a codificação apropriada\n",
        "nome_colab = f\"/content/{file_name}\"\n",
        "df = pd.read_csv(nome_colab, encoding='latin9', sep=';')  # Ajuste o delimitador se necessário"
      ],
      "metadata": {
        "id": "c5nW2P8NYlk0"
      },
      "execution_count": null,
      "outputs": []
    },
    {
      "cell_type": "code",
      "source": [
        "# Filtrar o DataFrame com base nos 7 primeiros dígitos do CD_SETOR\n",
        "df_municipio = df[df['CD_SETOR'].astype(str).str[:7] == codigo_municipio]\n",
        "\n",
        "csv_mun = file_name.replace(\"BR\", codigo_municipio)\n",
        "\n",
        "# Definir o caminho do diretório e do arquivo\n",
        "caminho_diretorio = f\"/content/{codigo_municipio}\"\n",
        "caminho_arquivo = f\"{caminho_diretorio}/{csv_mun}\"\n",
        "\n",
        "# Criar o diretório, se não existir\n",
        "os.makedirs(caminho_diretorio, exist_ok=True)\n",
        "\n",
        "# Salvar o DataFrame filtrado\n",
        "df_municipio.to_csv(caminho_arquivo, index=False, sep=';', encoding='UTF-8')\n",
        "\n",
        "print(f\"Arquivo salvo como: {caminho_arquivo}\")"
      ],
      "metadata": {
        "id": "LrGKiAZxYlnl"
      },
      "execution_count": null,
      "outputs": []
    },
    {
      "cell_type": "markdown",
      "source": [
        "# Agregados_por_setores_parentesco_BR.csv"
      ],
      "metadata": {
        "id": "M4jbzIOuXkvf"
      }
    },
    {
      "cell_type": "code",
      "source": [
        "# Arquivo do drive que foi baixado no site do censo 2022 - https://www.ibge.gov.br/estatisticas/downloads-estatisticas.html?caminho=Censos/Censo_Demografico_2022/Agregados_por_Setores_Censitarios/Agregados_por_Setor_csv/\n",
        "file_id = \"1NIr6H6OgMVbI2uM0z4oMxCHMPiA0JJpk\"\n",
        "file_name = \"Agregados_por_setores_parentesco_BR.csv\"  # Nome que será usado no Colab\n",
        "url = f\"https://drive.google.com/uc?id={file_id}\"\n",
        "\n",
        "# Baixar o arquivo\n",
        "gdown.download(url, file_name, quiet=False)\n",
        "\n",
        "# Carregar o arquivo CSV com a codificação apropriada\n",
        "nome_colab = f\"/content/{file_name}\"\n",
        "df = pd.read_csv(nome_colab, encoding='latin9', sep=';')  # Ajuste o delimitador se necessário"
      ],
      "metadata": {
        "id": "RRgQD3nsYmJ9"
      },
      "execution_count": null,
      "outputs": []
    },
    {
      "cell_type": "code",
      "source": [
        "# Filtrar o DataFrame com base nos 7 primeiros dígitos do CD_SETOR\n",
        "df_municipio = df[df['CD_SETOR'].astype(str).str[:7] == codigo_municipio]\n",
        "\n",
        "csv_mun = file_name.replace(\"BR\", codigo_municipio)\n",
        "\n",
        "# Definir o caminho do diretório e do arquivo\n",
        "caminho_diretorio = f\"/content/{codigo_municipio}\"\n",
        "caminho_arquivo = f\"{caminho_diretorio}/{csv_mun}\"\n",
        "\n",
        "# Criar o diretório, se não existir\n",
        "os.makedirs(caminho_diretorio, exist_ok=True)\n",
        "\n",
        "# Salvar o DataFrame filtrado\n",
        "df_municipio.to_csv(caminho_arquivo, index=False, sep=';', encoding='UTF-8')\n",
        "\n",
        "print(f\"Arquivo salvo como: {caminho_arquivo}\")"
      ],
      "metadata": {
        "id": "GKXVHuJUYmM1"
      },
      "execution_count": null,
      "outputs": []
    },
    {
      "cell_type": "markdown",
      "source": [
        "# Agregados_por_setores_pessoas_indigenas_BR.csv"
      ],
      "metadata": {
        "id": "HTooq365XnC3"
      }
    },
    {
      "cell_type": "code",
      "source": [
        "# Arquivo do drive que foi baixado no site do censo 2022 - https://www.ibge.gov.br/estatisticas/downloads-estatisticas.html?caminho=Censos/Censo_Demografico_2022/Agregados_por_Setores_Censitarios/Agregados_por_Setor_csv/\n",
        "file_id = \"1werm-osC51i6Hi5H3MShw0AIVX1ZD0dj\"\n",
        "file_name = \"Agregados_por_setores_pessoas_indigenas_BR.csv\"  # Nome que será usado no Colab\n",
        "url = f\"https://drive.google.com/uc?id={file_id}\"\n",
        "\n",
        "# Baixar o arquivo\n",
        "gdown.download(url, file_name, quiet=False)\n",
        "\n",
        "# Carregar o arquivo CSV com a codificação apropriada\n",
        "nome_colab = f\"/content/{file_name}\"\n",
        "df = pd.read_csv(nome_colab, encoding='latin9', sep=';')  # Ajuste o delimitador se necessário"
      ],
      "metadata": {
        "id": "ik_nYQd1Ymqe"
      },
      "execution_count": null,
      "outputs": []
    },
    {
      "cell_type": "code",
      "source": [
        "# Filtrar o DataFrame com base nos 7 primeiros dígitos do CD_SETOR\n",
        "df_municipio = df[df['CD_SETOR'].astype(str).str[:7] == codigo_municipio]\n",
        "\n",
        "csv_mun = file_name.replace(\"BR\", codigo_municipio)\n",
        "\n",
        "# Definir o caminho do diretório e do arquivo\n",
        "caminho_diretorio = f\"/content/{codigo_municipio}\"\n",
        "caminho_arquivo = f\"{caminho_diretorio}/{csv_mun}\"\n",
        "\n",
        "# Criar o diretório, se não existir\n",
        "os.makedirs(caminho_diretorio, exist_ok=True)\n",
        "\n",
        "# Salvar o DataFrame filtrado\n",
        "df_municipio.to_csv(caminho_arquivo, index=False, sep=';', encoding='UTF-8')\n",
        "\n",
        "print(f\"Arquivo salvo como: {caminho_arquivo}\")"
      ],
      "metadata": {
        "id": "IQ2GA-SvYmtG"
      },
      "execution_count": null,
      "outputs": []
    },
    {
      "cell_type": "markdown",
      "source": [
        "# Agregados_por_setores_pessoas_quilombolas_BR.csv"
      ],
      "metadata": {
        "id": "976E5eQbXrpX"
      }
    },
    {
      "cell_type": "code",
      "source": [
        "# Arquivo do drive que foi baixado no site do censo 2022 - https://www.ibge.gov.br/estatisticas/downloads-estatisticas.html?caminho=Censos/Censo_Demografico_2022/Agregados_por_Setores_Censitarios/Agregados_por_Setor_csv/\n",
        "file_id = \"13biRZaMWAPLMZ5JilPIrSkGe_-dKwtfE\"\n",
        "file_name = \"Agregados_por_setores_pessoas_quilombolas_BR.csv\"  # Nome que será usado no Colab\n",
        "url = f\"https://drive.google.com/uc?id={file_id}\"\n",
        "\n",
        "# Baixar o arquivo\n",
        "gdown.download(url, file_name, quiet=False)\n",
        "\n",
        "# Carregar o arquivo CSV com a codificação apropriada\n",
        "nome_colab = f\"/content/{file_name}\"\n",
        "df = pd.read_csv(nome_colab, encoding='latin9', sep=';')  # Ajuste o delimitador se necessário"
      ],
      "metadata": {
        "id": "lns_TmDzYnNe"
      },
      "execution_count": null,
      "outputs": []
    },
    {
      "cell_type": "code",
      "source": [
        "# Filtrar o DataFrame com base nos 7 primeiros dígitos do CD_SETOR\n",
        "df_municipio = df[df['CD_SETOR'].astype(str).str[:7] == codigo_municipio]\n",
        "\n",
        "csv_mun = file_name.replace(\"BR\", codigo_municipio)\n",
        "\n",
        "# Definir o caminho do diretório e do arquivo\n",
        "caminho_diretorio = f\"/content/{codigo_municipio}\"\n",
        "caminho_arquivo = f\"{caminho_diretorio}/{csv_mun}\"\n",
        "\n",
        "# Criar o diretório, se não existir\n",
        "os.makedirs(caminho_diretorio, exist_ok=True)\n",
        "\n",
        "# Salvar o DataFrame filtrado\n",
        "df_municipio.to_csv(caminho_arquivo, index=False, sep=';', encoding='UTF-8')\n",
        "\n",
        "print(f\"Arquivo salvo como: {caminho_arquivo}\")"
      ],
      "metadata": {
        "id": "RkxoPCjcYnQN"
      },
      "execution_count": null,
      "outputs": []
    }
  ],
  "metadata": {
    "colab": {
      "provenance": [],
      "authorship_tag": "ABX9TyMC9m/DcwdFN5WOUVoKkdmE",
      "include_colab_link": true
    },
    "kernelspec": {
      "display_name": "Python 3",
      "name": "python3"
    },
    "language_info": {
      "name": "python"
    }
  },
  "nbformat": 4,
  "nbformat_minor": 0
}