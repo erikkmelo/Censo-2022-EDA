{
  "cells": [
    {
      "cell_type": "markdown",
      "metadata": {
        "id": "view-in-github",
        "colab_type": "text"
      },
      "source": [
        "<a href=\"https://colab.research.google.com/github/erikkmelo/Censo-2022-EDA/blob/main/extrair_csv_mun_censo_2022.ipynb\" target=\"_parent\"><img src=\"https://colab.research.google.com/assets/colab-badge.svg\" alt=\"Open In Colab\"/></a>"
      ]
    },
    {
      "cell_type": "markdown",
      "source": [
        "# Instalações e Bibliotecas necessárias"
      ],
      "metadata": {
        "id": "R-5G5cpcPWqA"
      }
    },
    {
      "cell_type": "code",
      "execution_count": 42,
      "metadata": {
        "id": "oJDcWEbH758Y"
      },
      "outputs": [],
      "source": [
        "#!pip install gdown\n",
        "import gdown\n",
        "import pandas as pd"
      ]
    },
    {
      "cell_type": "markdown",
      "source": [
        "# 1º Passo - Escolha o município através do código dos municípios IBGE\n",
        "\n",
        "# Códigos dos municípios IBGE\n",
        "\n",
        "https://www.ibge.gov.br/explica/codigos-dos-municipios.php#SP"
      ],
      "metadata": {
        "id": "2dIJ-xA9OJe7"
      }
    },
    {
      "cell_type": "code",
      "source": [
        "# Definir o código do município pelos 7 primeiros dígitos\n",
        "codigo_municipio = \"3551009\"  # Substitua pelo código desejado p.ex. 3551009 - São Vicente - SP"
      ],
      "metadata": {
        "id": "beT06Nn4Oypu"
      },
      "execution_count": 43,
      "outputs": []
    },
    {
      "cell_type": "markdown",
      "source": [
        "# Agregados_por_setores_basico_BR.csv"
      ],
      "metadata": {
        "id": "hFb0Z-YWSeTs"
      }
    },
    {
      "cell_type": "code",
      "execution_count": 46,
      "metadata": {
        "id": "BtA2EozmAsBm",
        "colab": {
          "base_uri": "https://localhost:8080/"
        },
        "outputId": "0ec24bc1-1434-4df5-ce45-304b6dd18775"
      },
      "outputs": [
        {
          "output_type": "stream",
          "name": "stderr",
          "text": [
            "Downloading...\n",
            "From (original): https://drive.google.com/uc?id=1mM7kVMKOr5U2MMOqneMRHYBcY9cunYxy\n",
            "From (redirected): https://drive.google.com/uc?id=1mM7kVMKOr5U2MMOqneMRHYBcY9cunYxy&confirm=t&uuid=ec45f965-7702-41d3-a0bb-a263cce26c77\n",
            "To: /content/Agregados_por_setores_basico_BR.csv\n",
            "100%|██████████| 137M/137M [00:02<00:00, 57.3MB/s]\n",
            "<ipython-input-46-7ddaec0f8ae7>:11: DtypeWarning: Columns (2,3,9,11,13,14,23,25) have mixed types. Specify dtype option on import or set low_memory=False.\n",
            "  df = pd.read_csv(nome_colab, encoding='latin1', sep=';')  # Ajuste o delimitador se necessário\n"
          ]
        },
        {
          "output_type": "stream",
          "name": "stdout",
          "text": [
            "Arquivo salvo como: /content/Agregados_por_setores_basico_3551009.csv\n"
          ]
        }
      ],
      "source": [
        "# Arquivo do drive que foi baixado no site do censo 2022 - https://www.ibge.gov.br/estatisticas/downloads-estatisticas.html?caminho=Censos/Censo_Demografico_2022/Agregados_por_Setores_Censitarios/Agregados_por_Setor_csv/\n",
        "file_id = \"1mM7kVMKOr5U2MMOqneMRHYBcY9cunYxy\"\n",
        "file_name = \"Agregados_por_setores_basico_BR.csv\"  # Nome que será usado no Colab\n",
        "url = f\"https://drive.google.com/uc?id={file_id}\"\n",
        "\n",
        "# Baixar o arquivo\n",
        "gdown.download(url, file_name, quiet=False)\n",
        "\n",
        "# Carregar o arquivo CSV com a codificação apropriada\n",
        "nome_colab = f\"/content/{file_name}\"\n",
        "df = pd.read_csv(nome_colab, encoding='latin9', sep=';')  # Ajuste o delimitador se necessário"
      ]
    },
    {
      "cell_type": "code",
      "source": [
        "# Filtrar o DataFrame com base nos 7 primeiros dígitos do CD_SETOR\n",
        "df_municipio = df[df['CD_SETOR'].astype(str).str[:7] == codigo_municipio]\n",
        "\n",
        "# Criar o novo nome de arquivo substituindo \"BR\" pelo código do município\n",
        "csv_mun = nome_colab.replace(\"BR\", codigo_municipio)\n",
        "\n",
        "# Salvar o DataFrame filtrado\n",
        "df_municipio.to_csv(csv_mun, index=False, sep=';', encoding='UTF-8')\n",
        "\n",
        "print(f\"Arquivo salvo como: {csv_mun}\")"
      ],
      "metadata": {
        "id": "Fztq3Z6mShHd"
      },
      "execution_count": null,
      "outputs": []
    },
    {
      "cell_type": "markdown",
      "source": [
        "# Agregados_por_setores_alfabetizacao_3551009.csv"
      ],
      "metadata": {
        "id": "_1jHFycPSW-G"
      }
    },
    {
      "cell_type": "code",
      "source": [
        "# Arquivo do drive que foi baixado no site do censo 2022 - https://www.ibge.gov.br/estatisticas/downloads-estatisticas.html?caminho=Censos/Censo_Demografico_2022/Agregados_por_Setores_Censitarios/Agregados_por_Setor_csv/\n",
        "file_id = \"13YQRRIXqURVHqKmBeiUU7eoYSeGG3p7y\"\n",
        "file_name = \"Agregados_por_setores_alfabetizacao_BR.csv\"  # Nome que será usado no Colab\n",
        "url = f\"https://drive.google.com/uc?id={file_id}\"\n",
        "\n",
        "# Baixar o arquivo\n",
        "gdown.download(url, file_name, quiet=False)\n",
        "\n",
        "# Carregar o arquivo CSV com a codificação apropriada\n",
        "nome_colab = f\"/content/{file_name}\"\n",
        "df = pd.read_csv(nome_colab, encoding='latin9', sep=';')  # Ajuste o delimitador se necessário\n"
      ],
      "metadata": {
        "colab": {
          "base_uri": "https://localhost:8080/"
        },
        "id": "6agto3HVQ6e1",
        "outputId": "919b6f7c-ffc0-4f47-e29a-c8f056fe197b"
      },
      "execution_count": 49,
      "outputs": [
        {
          "output_type": "stream",
          "name": "stderr",
          "text": [
            "Downloading...\n",
            "From (original): https://drive.google.com/uc?id=13YQRRIXqURVHqKmBeiUU7eoYSeGG3p7y\n",
            "From (redirected): https://drive.google.com/uc?id=13YQRRIXqURVHqKmBeiUU7eoYSeGG3p7y&confirm=t&uuid=21fdc60b-47bc-4db0-9bdf-b3a5bcd1d49a\n",
            "To: /content/Agregados_por_setores_alfabetizacao_BR.csv\n",
            "100%|██████████| 735M/735M [00:12<00:00, 60.5MB/s]\n",
            "<ipython-input-49-4e82da966768>:11: DtypeWarning: Columns (8,10,23,27,43,44,53,58,61,62,63,68,73,76,78,81,88,92,100,112,114,127,131,147,148,157,162,165,167,172,177,180,182,185,192,196,209,211,213,215,217,223,229,232,236,237,243,246,255,256,257,259,265,268,269,271,279,282,288,292,294,296,298,311,325,328,330,331,336,341,343,347,350,352) have mixed types. Specify dtype option on import or set low_memory=False.\n",
            "  df = pd.read_csv(nome_colab, encoding='latin9', sep=';')  # Ajuste o delimitador se necessário\n"
          ]
        },
        {
          "output_type": "stream",
          "name": "stdout",
          "text": [
            "Arquivo salvo como: /content/Agregados_por_setores_alfabetizacao_3551009.csv\n"
          ]
        }
      ]
    },
    {
      "cell_type": "code",
      "source": [
        "# Filtrar o DataFrame com base nos 7 primeiros dígitos do CD_SETOR\n",
        "df_municipio = df[df['CD_setor'].astype(str).str[:7] == codigo_municipio]\n",
        "\n",
        "# Criar o novo nome de arquivo substituindo \"BR\" pelo código do município\n",
        "csv_mun = nome_colab.replace(\"BR\", codigo_municipio)\n",
        "\n",
        "# Salvar o DataFrame filtrado\n",
        "df_municipio.to_csv(csv_mun, index=False, sep=';', encoding='UTF-8')\n",
        "\n",
        "print(f\"Arquivo salvo como: {csv_mun}\")"
      ],
      "metadata": {
        "id": "64I14lVdST8P"
      },
      "execution_count": null,
      "outputs": []
    }
  ],
  "metadata": {
    "colab": {
      "provenance": [],
      "authorship_tag": "ABX9TyMlNELF6pbAA9b2ZjVnOEmw",
      "include_colab_link": true
    },
    "kernelspec": {
      "display_name": "Python 3",
      "name": "python3"
    },
    "language_info": {
      "name": "python"
    }
  },
  "nbformat": 4,
  "nbformat_minor": 0
}